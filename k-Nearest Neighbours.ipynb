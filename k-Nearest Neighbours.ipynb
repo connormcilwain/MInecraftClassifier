{
 "cells": [
  {
   "cell_type": "markdown",
   "id": "90528e21",
   "metadata": {},
   "source": [
    "#  Minecraft Machine Learning - the k-Nearest Neighbours Algorithm<br>"
   ]
  },
  {
   "cell_type": "markdown",
   "id": "0458439d",
   "metadata": {},
   "source": [
    "![Minecraft Steve and Creeper](data/msac.jpg)\n",
    "<h1><center>Friend or foe?</center></h1>"
   ]
  },
  {
   "cell_type": "markdown",
   "id": "ac2fcdb0",
   "metadata": {},
   "source": [
    "This notebook will teach you how to create a k-Nearest Neighbours machine learning algorithm. First, we'll train the model on our images of the Minecraft mobs. Then, once the model has learned which mobs are hostile, neutral or passive, we'll test the model on some never-before seen images to see if it can tell its behaviour!"
   ]
  },
  {
   "cell_type": "markdown",
   "id": "bcf7ae57",
   "metadata": {},
   "source": [
    "## k-Nearest Neighbours\n"
   ]
  },
  {
   "cell_type": "markdown",
   "id": "da1400c6",
   "metadata": {},
   "source": [
    "Think about your best friend. Why do you like them? Are they funny, or kind, or athletic? Make a list in your head of all the qualities they have. Now think - do you share any of these qualities? Are **you** funny, or kind, or athletic? If you share a lot of qualities, you can think of them as your \"Nearest Neighbour\". The \"k\" in k-Nearest Neighbours is 1 in this case. If we thought about your two best friends, \"k\" would be 2. It simply means the number of neighbours.<br><br>Now, imagine a new kid moves to town who shares a lot of the qualities you and your friends have. Would you like to make friends with them? You might predict, \"Yes! If they are like me and my best friend, we'll probably get on well\". Now let's think about a similar situation for our machine learning model. If we can find some qualities that hostile Minecraft mobs share, we can look for those qualities in a new mob and predict if they're dangerous or not!\n"
   ]
  },
  {
   "cell_type": "markdown",
   "id": "47be5ae1",
   "metadata": {},
   "source": [
    "## Start here: How to use this notebook"
   ]
  },
  {
   "cell_type": "markdown",
   "id": "4177a991",
   "metadata": {},
   "source": [
    "Each box below contains some code we're going to run. We want to run each cell in order to make sure everything works. Try clicking on the box below. You should see a green outline appear around it. To run the code in the box, click the run button at the top of the page. Or, you can hold the shift key and press Enter. "
   ]
  },
  {
   "cell_type": "code",
   "execution_count": 1,
   "id": "8e9a55a3",
   "metadata": {
    "scrolled": false
   },
   "outputs": [
    {
     "name": "stdout",
     "output_type": "stream",
     "text": [
      "All libraries Loaded!\n"
     ]
    }
   ],
   "source": [
    "import numpy as np\n",
    "import matplotlib.pyplot as plt\n",
    "import matplotlib.colors as clr\n",
    "%matplotlib inline\n",
    "print(\"All libraries Loaded!\")"
   ]
  },
  {
   "cell_type": "markdown",
   "id": "862570ed",
   "metadata": {},
   "source": [
    "If you see the `All libraries loaded!` message below the box, you've done it correctly - well done! Don't worry too much about the code in the box. We use it to load some extra code that will be working behind the scenes to assist us. <br><br>Try running the code in the box below."
   ]
  },
  {
   "cell_type": "code",
   "execution_count": 2,
   "id": "ee3380b2",
   "metadata": {},
   "outputs": [
    {
     "data": {
      "text/plain": [
       "<matplotlib.image.AxesImage at 0x166fb1dd2e0>"
      ]
     },
     "execution_count": 2,
     "metadata": {},
     "output_type": "execute_result"
    },
    {
     "data": {
      "image/png": "[encoded data removed]",
      "text/plain": [
       "<Figure size 432x288 with 1 Axes>"
      ]
     },
     "metadata": {
      "needs_background": "light"
     },
     "output_type": "display_data"
    }
   ],
   "source": [
    "minecraft_steve = plt.imread(\"data/minecraft_steve.png\") # this line loads a picture\n",
    "plt.imshow(minecraft_steve) # this line shows the picture "
   ]
  },
  {
   "cell_type": "markdown",
   "id": "09f17e02",
   "metadata": {},
   "source": [
    "You should now see a picture of Steve. Note the sentences following the `#` symbols - we use this method to add handy notes which explain what is going on in a particular piece of code."
   ]
  },
  {
   "cell_type": "markdown",
   "id": "b089a3df",
   "metadata": {},
   "source": [
    "You're all set now! Let's get stuck in. Run each box of code in order. You can be sure it is a code box if you see `In [ ]:` to the left of the box. When you see `In [*]:` with the `*` in the brackets, it means the code is running. It might take a little bit of time to run all the code so don't worry if it's taking a long time!"
   ]
  },
  {
   "cell_type": "markdown",
   "id": "4e0022eb",
   "metadata": {},
   "source": [
    "## Who do I look most like? "
   ]
  },
  {
   "cell_type": "markdown",
   "id": "b9e71048",
   "metadata": {},
   "source": [
    "To compare images, we need to understand how the computer looks at them. Run the code box below."
   ]
  },
  {
   "cell_type": "code",
   "execution_count": 3,
   "id": "ec425356",
   "metadata": {
    "scrolled": true
   },
   "outputs": [
    {
     "data": {
      "image/png": "[encoded data removed]",
      "text/plain": [
       "<Figure size 1152x1152 with 3 Axes>"
      ]
     },
     "metadata": {
      "needs_background": "light"
     },
     "output_type": "display_data"
    }
   ],
   "source": [
    "labels = [\"steve\", \"creeper\", \"villager\"] \n",
    "faces = [plt.imread(\"data/\" + name + \".png\") for name in labels]\n",
    "fig, [ax1, ax2, ax3] = plt.subplots(nrows=1, ncols=3, figsize = (16,16))\n",
    "for ax, face, label in zip(fig.axes, faces, labels):\n",
    "    ax.imshow(face)\n",
    "    ax.axis('off')\n",
    "    ax.set_title(label, fontsize=20)\n"
   ]
  },
  {
   "cell_type": "markdown",
   "id": "f20bb489",
   "metadata": {},
   "source": [
    "You should now see 3 faces. Each face is made up of 100 individual coloured squares called \"pixels\". By combining green pixels and black pixels in a certain order, we can construct its face. Steve's face on the left is also made up of 100 pixels, but they are of different colours. <br><br>The third face on the right belongs to a villager. Do you think it is more similar to the creeper, or to Steve? You can probably guess, but can we help the computer to decide?<br><br>Well, each pixel has 3 numbers which tell us how strong the red, green and blue colours are for that individual pixel square. For example, the creeper has some really strong green pixel numbers, but almost zero red or blue pixel numbers. We can compare these numbers to determine how similar the images are!"
   ]
  },
  {
   "cell_type": "code",
   "execution_count": 4,
   "id": "e63a88cb",
   "metadata": {},
   "outputs": [
    {
     "name": "stdout",
     "output_type": "stream",
     "text": [
      "Distance from Steve is 64. Distance from Creeper is 83. Nearest neighbour is Steve.\n"
     ]
    }
   ],
   "source": [
    "diff_steve = np.sum(abs(faces[0] - faces[2])) \n",
    "diff_creeper = np.sum(abs(faces[1] - faces[2]))\n",
    "nearest_neighbour = min(diff_steve, diff_creeper)\n",
    "\n",
    "## Change to absolute statement for simplicity? \"Nearest neighbour is Steve!\"\n",
    "\n",
    "print(f\"Distance from Steve is {int(diff_steve)}. Distance from Creeper is {int(diff_creeper)}.\"\n",
    "      f\" Nearest neighbour is {labels[(diff_steve, diff_creeper).index(nearest_neighbour)].capitalize()}.\")\n",
    "\n",
    "## Maybe plot a steviness graph?"
   ]
  },
  {
   "cell_type": "markdown",
   "id": "67109daa",
   "metadata": {},
   "source": [
    "All we have done here is subtract the pixel numbers of the villager from both Steve and the creeper. We then see that Steve is the nearest neighbour here. You could change the image of the villager to another picture and check to see if it's more Stevey or Creepy!<br><br>But instead of \"Steveiness\" and \"Creepiness\", we want our model to figure out whether a photo you give is contains a mob that is hostile, neutral or passive. And, instead of using three photos to decide, we're going to use the power of computers to test thousands! Let's load all of our images."
   ]
  },
  {
   "cell_type": "code",
   "execution_count": 5,
   "id": "54001d18",
   "metadata": {},
   "outputs": [],
   "source": [
    "import cv2 as cv\n",
    "from skimage.io import imread\n",
    "from pathlib import Path"
   ]
  },
  {
   "cell_type": "code",
   "execution_count": 6,
   "id": "79082aff",
   "metadata": {},
   "outputs": [],
   "source": [
    "def load_image_files(container_path):\n",
    "    image_dir = Path(container_path)\n",
    "    folders = [directory for directory in image_dir.iterdir() if directory.is_dir()]\n",
    "    categories = [fo.name for fo in folders]\n",
    "    \n",
    "    train_img = []\n",
    "    for i, direc in enumerate(folders):\n",
    "        for file in direc.iterdir():\n",
    "\n",
    "            img = plt.imread(file)\n",
    "            img = cv.cvtColor(img, cv.COLOR_BGR2GRAY)\n",
    "            img_pred = cv.resize(img, dimension, interpolation=cv.INTER_AREA)\n",
    "            img_pred = image.img_to_array(img_pred)\n",
    "            img_pred = img_pred / 255\n",
    "            train_img.append(img_pred)\n",
    "\n",
    "    X = np.array(train_img)\n",
    "\n",
    "    return X"
   ]
  },
  {
   "cell_type": "code",
   "execution_count": 7,
   "id": "246c7366",
   "metadata": {},
   "outputs": [
    {
     "ename": "FileNotFoundError",
     "evalue": "[WinError 3] The system cannot find the path specified: '..\\\\images'",
     "output_type": "error",
     "traceback": [
      "\u001b[1;31m---------------------------------------------------------------------------\u001b[0m",
      "\u001b[1;31mFileNotFoundError\u001b[0m                         Traceback (most recent call last)",
      "\u001b[1;32m<ipython-input-7-01a03a9a249f>\u001b[0m in \u001b[0;36m<module>\u001b[1;34m\u001b[0m\n\u001b[1;32m----> 1\u001b[1;33m \u001b[0mload_image_files\u001b[0m\u001b[1;33m(\u001b[0m\u001b[1;34m\"../images\"\u001b[0m\u001b[1;33m)\u001b[0m\u001b[1;33m\u001b[0m\u001b[1;33m\u001b[0m\u001b[0m\n\u001b[0m",
      "\u001b[1;32m<ipython-input-6-4fbf8f172ee4>\u001b[0m in \u001b[0;36mload_image_files\u001b[1;34m(container_path)\u001b[0m\n\u001b[0;32m      1\u001b[0m \u001b[1;32mdef\u001b[0m \u001b[0mload_image_files\u001b[0m\u001b[1;33m(\u001b[0m\u001b[0mcontainer_path\u001b[0m\u001b[1;33m)\u001b[0m\u001b[1;33m:\u001b[0m\u001b[1;33m\u001b[0m\u001b[1;33m\u001b[0m\u001b[0m\n\u001b[0;32m      2\u001b[0m     \u001b[0mimage_dir\u001b[0m \u001b[1;33m=\u001b[0m \u001b[0mPath\u001b[0m\u001b[1;33m(\u001b[0m\u001b[0mcontainer_path\u001b[0m\u001b[1;33m)\u001b[0m\u001b[1;33m\u001b[0m\u001b[1;33m\u001b[0m\u001b[0m\n\u001b[1;32m----> 3\u001b[1;33m     \u001b[0mfolders\u001b[0m \u001b[1;33m=\u001b[0m \u001b[1;33m[\u001b[0m\u001b[0mdirectory\u001b[0m \u001b[1;32mfor\u001b[0m \u001b[0mdirectory\u001b[0m \u001b[1;32min\u001b[0m \u001b[0mimage_dir\u001b[0m\u001b[1;33m.\u001b[0m\u001b[0miterdir\u001b[0m\u001b[1;33m(\u001b[0m\u001b[1;33m)\u001b[0m \u001b[1;32mif\u001b[0m \u001b[0mdirectory\u001b[0m\u001b[1;33m.\u001b[0m\u001b[0mis_dir\u001b[0m\u001b[1;33m(\u001b[0m\u001b[1;33m)\u001b[0m\u001b[1;33m]\u001b[0m\u001b[1;33m\u001b[0m\u001b[1;33m\u001b[0m\u001b[0m\n\u001b[0m\u001b[0;32m      4\u001b[0m     \u001b[0mcategories\u001b[0m \u001b[1;33m=\u001b[0m \u001b[1;33m[\u001b[0m\u001b[0mfo\u001b[0m\u001b[1;33m.\u001b[0m\u001b[0mname\u001b[0m \u001b[1;32mfor\u001b[0m \u001b[0mfo\u001b[0m \u001b[1;32min\u001b[0m \u001b[0mfolders\u001b[0m\u001b[1;33m]\u001b[0m\u001b[1;33m\u001b[0m\u001b[1;33m\u001b[0m\u001b[0m\n\u001b[0;32m      5\u001b[0m \u001b[1;33m\u001b[0m\u001b[0m\n",
      "\u001b[1;32m<ipython-input-6-4fbf8f172ee4>\u001b[0m in \u001b[0;36m<listcomp>\u001b[1;34m(.0)\u001b[0m\n\u001b[0;32m      1\u001b[0m \u001b[1;32mdef\u001b[0m \u001b[0mload_image_files\u001b[0m\u001b[1;33m(\u001b[0m\u001b[0mcontainer_path\u001b[0m\u001b[1;33m)\u001b[0m\u001b[1;33m:\u001b[0m\u001b[1;33m\u001b[0m\u001b[1;33m\u001b[0m\u001b[0m\n\u001b[0;32m      2\u001b[0m     \u001b[0mimage_dir\u001b[0m \u001b[1;33m=\u001b[0m \u001b[0mPath\u001b[0m\u001b[1;33m(\u001b[0m\u001b[0mcontainer_path\u001b[0m\u001b[1;33m)\u001b[0m\u001b[1;33m\u001b[0m\u001b[1;33m\u001b[0m\u001b[0m\n\u001b[1;32m----> 3\u001b[1;33m     \u001b[0mfolders\u001b[0m \u001b[1;33m=\u001b[0m \u001b[1;33m[\u001b[0m\u001b[0mdirectory\u001b[0m \u001b[1;32mfor\u001b[0m \u001b[0mdirectory\u001b[0m \u001b[1;32min\u001b[0m \u001b[0mimage_dir\u001b[0m\u001b[1;33m.\u001b[0m\u001b[0miterdir\u001b[0m\u001b[1;33m(\u001b[0m\u001b[1;33m)\u001b[0m \u001b[1;32mif\u001b[0m \u001b[0mdirectory\u001b[0m\u001b[1;33m.\u001b[0m\u001b[0mis_dir\u001b[0m\u001b[1;33m(\u001b[0m\u001b[1;33m)\u001b[0m\u001b[1;33m]\u001b[0m\u001b[1;33m\u001b[0m\u001b[1;33m\u001b[0m\u001b[0m\n\u001b[0m\u001b[0;32m      4\u001b[0m     \u001b[0mcategories\u001b[0m \u001b[1;33m=\u001b[0m \u001b[1;33m[\u001b[0m\u001b[0mfo\u001b[0m\u001b[1;33m.\u001b[0m\u001b[0mname\u001b[0m \u001b[1;32mfor\u001b[0m \u001b[0mfo\u001b[0m \u001b[1;32min\u001b[0m \u001b[0mfolders\u001b[0m\u001b[1;33m]\u001b[0m\u001b[1;33m\u001b[0m\u001b[1;33m\u001b[0m\u001b[0m\n\u001b[0;32m      5\u001b[0m \u001b[1;33m\u001b[0m\u001b[0m\n",
      "\u001b[1;32m~\\anaconda3\\lib\\pathlib.py\u001b[0m in \u001b[0;36miterdir\u001b[1;34m(self)\u001b[0m\n\u001b[0;32m   1120\u001b[0m         \u001b[1;32mif\u001b[0m \u001b[0mself\u001b[0m\u001b[1;33m.\u001b[0m\u001b[0m_closed\u001b[0m\u001b[1;33m:\u001b[0m\u001b[1;33m\u001b[0m\u001b[1;33m\u001b[0m\u001b[0m\n\u001b[0;32m   1121\u001b[0m             \u001b[0mself\u001b[0m\u001b[1;33m.\u001b[0m\u001b[0m_raise_closed\u001b[0m\u001b[1;33m(\u001b[0m\u001b[1;33m)\u001b[0m\u001b[1;33m\u001b[0m\u001b[1;33m\u001b[0m\u001b[0m\n\u001b[1;32m-> 1122\u001b[1;33m         \u001b[1;32mfor\u001b[0m \u001b[0mname\u001b[0m \u001b[1;32min\u001b[0m \u001b[0mself\u001b[0m\u001b[1;33m.\u001b[0m\u001b[0m_accessor\u001b[0m\u001b[1;33m.\u001b[0m\u001b[0mlistdir\u001b[0m\u001b[1;33m(\u001b[0m\u001b[0mself\u001b[0m\u001b[1;33m)\u001b[0m\u001b[1;33m:\u001b[0m\u001b[1;33m\u001b[0m\u001b[1;33m\u001b[0m\u001b[0m\n\u001b[0m\u001b[0;32m   1123\u001b[0m             \u001b[1;32mif\u001b[0m \u001b[0mname\u001b[0m \u001b[1;32min\u001b[0m \u001b[1;33m{\u001b[0m\u001b[1;34m'.'\u001b[0m\u001b[1;33m,\u001b[0m \u001b[1;34m'..'\u001b[0m\u001b[1;33m}\u001b[0m\u001b[1;33m:\u001b[0m\u001b[1;33m\u001b[0m\u001b[1;33m\u001b[0m\u001b[0m\n\u001b[0;32m   1124\u001b[0m                 \u001b[1;31m# Yielding a path object for these makes little sense\u001b[0m\u001b[1;33m\u001b[0m\u001b[1;33m\u001b[0m\u001b[1;33m\u001b[0m\u001b[0m\n",
      "\u001b[1;31mFileNotFoundError\u001b[0m: [WinError 3] The system cannot find the path specified: '..\\\\images'"
     ]
    }
   ],
   "source": [
    "load_image_files(\"../images\")"
   ]
  },
  {
   "cell_type": "code",
   "execution_count": null,
   "id": "932b65ce",
   "metadata": {},
   "outputs": [],
   "source": []
  },
  {
   "cell_type": "code",
   "execution_count": null,
   "id": "4172d65e",
   "metadata": {},
   "outputs": [],
   "source": []
  },
  {
   "cell_type": "code",
   "execution_count": null,
   "id": "b7ffe9e5",
   "metadata": {},
   "outputs": [],
   "source": [
    "from sklearn import datasets, neighbors, linear_model\n",
    "\n",
    "X_digits, y_digits = datasets.load_digits(return_X_y=True)\n",
    "X_digits = X_digits / X_digits.max()\n",
    "\n",
    "n_samples = len(X_digits)\n",
    "\n",
    "X_train = X_digits[:int(.9 * n_samples)]\n",
    "y_train = y_digits[:int(.9 * n_samples)]\n",
    "X_test = X_digits[int(.9 * n_samples):]\n",
    "y_test = y_digits[int(.9 * n_samples):]\n",
    "\n",
    "knn = neighbors.KNeighborsClassifier()\n",
    "logistic = linear_model.LogisticRegression(max_iter=1000)\n",
    "\n",
    "print('KNN score: %f' % knn.fit(X_train, y_train).score(X_test, y_test))\n",
    "print('LogisticRegression score: %f'\n",
    "      % logistic.fit(X_train, y_train).score(X_test, y_test))"
   ]
  },
  {
   "cell_type": "code",
   "execution_count": null,
   "id": "7d73821b",
   "metadata": {},
   "outputs": [],
   "source": []
  },
  {
   "cell_type": "markdown",
   "id": "ba7f8932",
   "metadata": {},
   "source": [
    "### Distance"
   ]
  },
  {
   "cell_type": "markdown",
   "id": "64156487",
   "metadata": {},
   "source": [
    "k-Nearest Neighbours does not actually learn. It's more like if you wrote all the answers down for a test and looked at your page for the answers, instead of figuring out the answer on your own. If you want to see some code that learns and improves in accuracy, check out the \"Hard Mode\" tutorial!"
   ]
  }
 ],
 "metadata": {
  "kernelspec": {
   "display_name": "Python 3",
   "language": "python",
   "name": "python3"
  },
  "language_info": {
   "codemirror_mode": {
    "name": "ipython",
    "version": 3
   },
   "file_extension": ".py",
   "mimetype": "text/x-python",
   "name": "python",
   "nbconvert_exporter": "python",
   "pygments_lexer": "ipython3",
   "version": "3.8.10"
  }
 },
 "nbformat": 4,
 "nbformat_minor": 5
}
