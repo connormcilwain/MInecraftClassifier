{
 "cells": [
  {
   "cell_type": "code",
   "execution_count": 2,
   "id": "28c29051",
   "metadata": {},
   "outputs": [
    {
     "name": "stdout",
     "output_type": "stream",
     "text": [
      "Collecting package metadata (current_repodata.json): ...working... done\n",
      "Solving environment: ...working... done\n",
      "\n",
      "# All requested packages already installed.\n",
      "\n"
     ]
    }
   ],
   "source": [
    "import sys"
   ]
  },
  {
   "cell_type": "code",
   "execution_count": 6,
   "id": "b08973e5",
   "metadata": {},
   "outputs": [],
   "source": [
    "packages = ['numpy', 'matplotlib', 'seaborn']"
   ]
  },
  {
   "cell_type": "code",
   "execution_count": null,
   "id": "8e8cd339",
   "metadata": {},
   "outputs": [],
   "source": [
    "!conda install --yes --prefix {sys.prefix} numpy\n",
    "\n",
    "#(package for package in packages)"
   ]
  },
  {
   "cell_type": "code",
   "execution_count": null,
   "id": "8e2c24ef",
   "metadata": {},
   "outputs": [],
   "source": []
  }
 ],
 "metadata": {
  "kernelspec": {
   "display_name": "Python 3",
   "language": "python",
   "name": "python3"
  },
  "language_info": {
   "codemirror_mode": {
    "name": "ipython",
    "version": 3
   },
   "file_extension": ".py",
   "mimetype": "text/x-python",
   "name": "python",
   "nbconvert_exporter": "python",
   "pygments_lexer": "ipython3",
   "version": "3.8.10"
  }
 },
 "nbformat": 4,
 "nbformat_minor": 5
}
