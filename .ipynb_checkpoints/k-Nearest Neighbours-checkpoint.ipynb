{
 "cells": [
  {
   "cell_type": "markdown",
   "id": "90528e21",
   "metadata": {},
   "source": [
    "#  Minecraft Machine Learning - the k-Nearest Neighbours Algorithm<br>"
   ]
  },
  {
   "cell_type": "markdown",
   "id": "0458439d",
   "metadata": {},
   "source": [
    "![Minecraft Steve and Creeper](data/msac.jpg)\n",
    "<h1><center>Friend or foe?</center></h1>"
   ]
  },
  {
   "cell_type": "markdown",
   "id": "ac2fcdb0",
   "metadata": {},
   "source": [
    "This notebook will teach you how to create a k-Nearest Neighbours machine learning algorithm. First, we'll train the model on our images of the Minecraft mobs. Then, once the model has learned which mobs are hostile, neutral or passive, we'll test the model on some never-before seen images to see if it can tell its behaviour!"
   ]
  },
  {
   "cell_type": "markdown",
   "id": "bcf7ae57",
   "metadata": {},
   "source": [
    "## k-Nearest Neighbours\n"
   ]
  },
  {
   "cell_type": "markdown",
   "id": "da1400c6",
   "metadata": {},
   "source": [
    "Think about your best friend. Why do you like them? Are they funny, or kind, or athletic? Make a list in your head of all the qualities they have. Now think - do you share any of these qualities? Are **you** funny, or kind, or athletic? <br><br> If you share a lot of qualities, you can think of them as your \"Nearest Neighbour\". The \"k\" in k-Nearest Neighbours is 1 in this case. If we thought about your two best friends, \"k\" would be 2. It simply means the number of neighbours.<br><br>Now imagine a new kid moves to town who shares a lot of the qualities you and your friends have. Would you like to make friends with them? You might predict, \"Yes! If they are like me and my best friend, we'll probably get on well\". <br><br>Now let's think about a similar situation for our machine learning model. If we can find some qualities that hostile Minecraft mobs share, we can look for those qualities in a new mob and predict if they're dangerous or not!\n"
   ]
  },
  {
   "cell_type": "markdown",
   "id": "47be5ae1",
   "metadata": {},
   "source": [
    "## Start here: How to use this notebook"
   ]
  },
  {
   "cell_type": "markdown",
   "id": "4177a991",
   "metadata": {},
   "source": [
    "Each box below contains some code we're going to run. We want to run each cell in order to make sure everything works. Try clicking on the box below. You should see a green outline appear around it. To run the code in the box, click the run button at the top of the page. Or, you can hold the shift key and press Enter. "
   ]
  },
  {
   "cell_type": "code",
   "execution_count": 74,
   "id": "8e9a55a3",
   "metadata": {
    "scrolled": false
   },
   "outputs": [
    {
     "name": "stdout",
     "output_type": "stream",
     "text": [
      "All libraries Loaded!\n"
     ]
    }
   ],
   "source": [
    "import numpy as np\n",
    "import matplotlib.pyplot as plt\n",
    "import matplotlib.colors as clr\n",
    "%matplotlib inline\n",
    "print(\"All libraries Loaded!\")"
   ]
  },
  {
   "cell_type": "markdown",
   "id": "862570ed",
   "metadata": {},
   "source": [
    "If you see the `All libraries loaded!` message below the box, you've done it correctly - well done! Don't worry too much about the code in the box. We use it to load some extra code that will be working behind the scenes to assist us. <br><br>Try running the code in the box below."
   ]
  },
  {
   "cell_type": "code",
   "execution_count": 75,
   "id": "ee3380b2",
   "metadata": {},
   "outputs": [
    {
     "data": {
      "text/plain": [
       "<matplotlib.image.AxesImage at 0x1b8b00e91c0>"
      ]
     },
     "execution_count": 75,
     "metadata": {},
     "output_type": "execute_result"
    },
    {
     "data": {
      "image/png": "[encoded data removed]",
      "text/plain": [
       "<Figure size 432x288 with 1 Axes>"
      ]
     },
     "metadata": {
      "needs_background": "light"
     },
     "output_type": "display_data"
    }
   ],
   "source": [
    "minecraft_steve = plt.imread(\"data/minecraft_steve.png\") # this line loads a picture\n",
    "plt.imshow(minecraft_steve) # this line shows the picture "
   ]
  },
  {
   "cell_type": "markdown",
   "id": "09f17e02",
   "metadata": {},
   "source": [
    "You should now see a picture of Steve. Note the sentences following the `#` symbols - we use this method to add handy notes which explain what is going on in a particular piece of code."
   ]
  },
  {
   "cell_type": "markdown",
   "id": "b089a3df",
   "metadata": {},
   "source": [
    "You're all set now! Let's get stuck in. Run each box of code in order. You can be sure it is a code box if you see `In [ ]:` to the left of the box. When you see `In [*]:` with the `*` in the brackets, it means the code is running. It might take a little bit of time to run all the code so don't worry if it's taking a long time!"
   ]
  },
  {
   "cell_type": "markdown",
   "id": "4e0022eb",
   "metadata": {},
   "source": [
    "### Features"
   ]
  },
  {
   "cell_type": "code",
   "execution_count": 113,
   "id": "ec425356",
   "metadata": {},
   "outputs": [
    {
     "data": {
      "image/png": "[encoded data removed]",
      "text/plain": [
       "<Figure size 1152x1152 with 3 Axes>"
      ]
     },
     "metadata": {
      "needs_background": "light"
     },
     "output_type": "display_data"
    }
   ],
   "source": [
    "labels = [\"steve\", \"creeper\", \"villager\"] \n",
    "faces = [plt.imread(\"data/\" + name + \".png\") for name in labels]\n",
    "fig, [ax1, ax2, ax3] = plt.subplots(nrows=1, ncols=3, figsize = (16,16))\n",
    "for ax, face, label in zip(fig.axes, faces, labels):\n",
    "    ax.imshow(face)\n",
    "    ax.axis('off')\n",
    "    ax.set_title(label, fontsize=20)\n"
   ]
  },
  {
   "cell_type": "markdown",
   "id": "f20bb489",
   "metadata": {},
   "source": [
    "This creeper's face is made up of 100 individual coloured squares called \"pixels\". By combining green pixels and black pixels in a certain order, we can construct its face. Steve's face on the left is also made up of 100 pixels, but they are of different colours. <br><br>The third face on the right belongs to a villager. Do you think it is more similar to the creeper, or to Steve? You can probably guess, but can we help the computer to decide? "
   ]
  },
  {
   "cell_type": "code",
   "execution_count": 118,
   "id": "83a2af3c",
   "metadata": {},
   "outputs": [],
   "source": [
    "def euclidean_distance(row1, row2):\n",
    "\tdistance = 0.0\n",
    "\tfor i in range(len(row1)-1):\n",
    "\t\tdistance += (row1[i] - row2[i])**2\n",
    "\treturn np.sqrt(distance)"
   ]
  },
  {
   "cell_type": "markdown",
   "id": "76867476",
   "metadata": {},
   "source": [
    "Maybe compare \"Steveness\" to \"Creeperness\"?"
   ]
  },
  {
   "cell_type": "code",
   "execution_count": 120,
   "id": "7493ef86",
   "metadata": {},
   "outputs": [
    {
     "name": "stdout",
     "output_type": "stream",
     "text": [
      "Distance from Villager to Steve based on pixel value is [[1.0736793  0.8009799  0.7455313 ]\n",
      " [0.932773   0.66226923 0.63881856]\n",
      " [0.9997155  0.7310019  0.72909546]\n",
      " [1.0058882  0.7603497  0.76383066]\n",
      " [0.9517705  0.6797788  0.65356207]\n",
      " [0.8980221  0.64491624 0.6191982 ]\n",
      " [0.99218017 0.7311386  0.7659518 ]\n",
      " [0.9881109  0.7226335  0.70861125]\n",
      " [0.94276017 0.6928203  0.65582883]\n",
      " [1.0316187  0.7029678  0.6956337 ]]\n"
     ]
    },
    {
     "name": "stderr",
     "output_type": "stream",
     "text": [
      "C:\\Users\\Connor\\anaconda3\\lib\\site-packages\\numpy\\linalg\\linalg.py:2522: FutureWarning: elementwise comparison failed; returning scalar instead, but in the future will perform elementwise comparison\n",
      "  (ord in ('f', 'fro') and ndim == 2) or\n"
     ]
    },
    {
     "ename": "ValueError",
     "evalue": "The truth value of an array with more than one element is ambiguous. Use a.any() or a.all()",
     "output_type": "error",
     "traceback": [
      "\u001b[1;31m---------------------------------------------------------------------------\u001b[0m",
      "\u001b[1;31mValueError\u001b[0m                                Traceback (most recent call last)",
      "\u001b[1;32m<ipython-input-120-ba3b2b7be2ed>\u001b[0m in \u001b[0;36m<module>\u001b[1;34m\u001b[0m\n\u001b[0;32m      1\u001b[0m \u001b[0mprint\u001b[0m\u001b[1;33m(\u001b[0m\u001b[1;34mf\"Distance from Villager to Steve based on pixel value is {euclidean_distance(faces[0], faces[2])}\"\u001b[0m\u001b[1;33m)\u001b[0m\u001b[1;33m\u001b[0m\u001b[1;33m\u001b[0m\u001b[0m\n\u001b[1;32m----> 2\u001b[1;33m \u001b[0mprint\u001b[0m\u001b[1;33m(\u001b[0m\u001b[1;34mf\"Distance from Creeper to Steve is {np.linalg.norm(faces[0], faces[2])}\"\u001b[0m\u001b[1;33m)\u001b[0m\u001b[1;33m\u001b[0m\u001b[1;33m\u001b[0m\u001b[0m\n\u001b[0m",
      "\u001b[1;32m<__array_function__ internals>\u001b[0m in \u001b[0;36mnorm\u001b[1;34m(*args, **kwargs)\u001b[0m\n",
      "\u001b[1;32m~\\anaconda3\\lib\\site-packages\\numpy\\linalg\\linalg.py\u001b[0m in \u001b[0;36mnorm\u001b[1;34m(x, ord, axis, keepdims)\u001b[0m\n\u001b[0;32m   2521\u001b[0m         if ((ord is None) or\n\u001b[0;32m   2522\u001b[0m             \u001b[1;33m(\u001b[0m\u001b[0mord\u001b[0m \u001b[1;32min\u001b[0m \u001b[1;33m(\u001b[0m\u001b[1;34m'f'\u001b[0m\u001b[1;33m,\u001b[0m \u001b[1;34m'fro'\u001b[0m\u001b[1;33m)\u001b[0m \u001b[1;32mand\u001b[0m \u001b[0mndim\u001b[0m \u001b[1;33m==\u001b[0m \u001b[1;36m2\u001b[0m\u001b[1;33m)\u001b[0m \u001b[1;32mor\u001b[0m\u001b[1;33m\u001b[0m\u001b[1;33m\u001b[0m\u001b[0m\n\u001b[1;32m-> 2523\u001b[1;33m             (ord == 2 and ndim == 1)):\n\u001b[0m\u001b[0;32m   2524\u001b[0m \u001b[1;33m\u001b[0m\u001b[0m\n\u001b[0;32m   2525\u001b[0m             \u001b[0mx\u001b[0m \u001b[1;33m=\u001b[0m \u001b[0mx\u001b[0m\u001b[1;33m.\u001b[0m\u001b[0mravel\u001b[0m\u001b[1;33m(\u001b[0m\u001b[0morder\u001b[0m\u001b[1;33m=\u001b[0m\u001b[1;34m'K'\u001b[0m\u001b[1;33m)\u001b[0m\u001b[1;33m\u001b[0m\u001b[1;33m\u001b[0m\u001b[0m\n",
      "\u001b[1;31mValueError\u001b[0m: The truth value of an array with more than one element is ambiguous. Use a.any() or a.all()"
     ]
    }
   ],
   "source": [
    "print(f\"Distance from Villager to Steve based on pixel value is {euclidean_distance(faces[0], faces[2])}\")\n",
    "print(f\"Distance from Creeper to Steve is {np.linalg.norm(faces[0], faces[2])}\")"
   ]
  },
  {
   "cell_type": "markdown",
   "id": "ba7f8932",
   "metadata": {},
   "source": [
    "### Distance"
   ]
  },
  {
   "cell_type": "markdown",
   "id": "64156487",
   "metadata": {},
   "source": [
    "k-Nearest Neighbours does not actually learn. It's more like if you wrote all the answers down for a test and looked at your page for the answers, instead of figuring out the answer on your own. If you want to see some code that learns and improves in accuracy, check out the \"Hard Mode\" tutorial!"
   ]
  }
 ],
 "metadata": {
  "kernelspec": {
   "display_name": "Python 3",
   "language": "python",
   "name": "python3"
  },
  "language_info": {
   "codemirror_mode": {
    "name": "ipython",
    "version": 3
   },
   "file_extension": ".py",
   "mimetype": "text/x-python",
   "name": "python",
   "nbconvert_exporter": "python",
   "pygments_lexer": "ipython3",
   "version": "3.8.10"
  }
 },
 "nbformat": 4,
 "nbformat_minor": 5
}
