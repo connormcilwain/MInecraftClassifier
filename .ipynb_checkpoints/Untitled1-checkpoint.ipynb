{
 "cells": [
  {
   "cell_type": "code",
   "execution_count": 2,
   "id": "7fbe0599",
   "metadata": {},
   "outputs": [],
   "source": [
    "import os\n",
    "import numpy as np\n",
    "import matplotlib.pyplot as plt\n",
    "import matplotlib.colors as clr\n",
    "import cv2 as cv\n",
    "import random\n",
    "from pathlib import Path"
   ]
  },
  {
   "cell_type": "code",
   "execution_count": 3,
   "id": "a376e594",
   "metadata": {},
   "outputs": [],
   "source": [
    "def LoadImageFiles(image_storage_path):\n",
    "# Block 1\n",
    "    image_storage_folder = Path(image_storage_path)\n",
    "    folders = [directory for directory in image_storage_folder.iterdir() if directory.is_dir()]\n",
    "    categories = [folder.name for folder in folders]\n",
    "    \n",
    "#Block 2\n",
    "    image_array = []\n",
    "    for folder in folders:\n",
    "        for file in folder.iterdir():\n",
    "            image = cv.imread(str(file))\n",
    "            image = cv.cvtColor(image, cv.COLOR_BGR2GRAY)\n",
    "            image = cv.resize(image, (50, 50), interpolation=cv.INTER_AREA) / 255\n",
    "            cv.imwrite(str(file), image)\n",
    "    return\n",
    "\n",
    "#Block 3\n",
    "def ResizeImages(image_array):\n",
    "    image_array = image_array.reshape(len(image_array), 50*50)\n",
    "    return image_array"
   ]
  },
  {
   "cell_type": "code",
   "execution_count": 7,
   "id": "ee6b6029",
   "metadata": {},
   "outputs": [],
   "source": [
    "LoadImageFiles(\"imagessmall\\Images to Train With\")\n"
   ]
  },
  {
   "cell_type": "code",
   "execution_count": null,
   "id": "11d72a00",
   "metadata": {},
   "outputs": [],
   "source": []
  }
 ],
 "metadata": {
  "kernelspec": {
   "display_name": "Python 3",
   "language": "python",
   "name": "python3"
  },
  "language_info": {
   "codemirror_mode": {
    "name": "ipython",
    "version": 3
   },
   "file_extension": ".py",
   "mimetype": "text/x-python",
   "name": "python",
   "nbconvert_exporter": "python",
   "pygments_lexer": "ipython3",
   "version": "3.8.10"
  }
 },
 "nbformat": 4,
 "nbformat_minor": 5
}
